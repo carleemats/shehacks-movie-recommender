{
 "cells": [
  {
   "cell_type": "markdown",
   "metadata": {
    "_cell_guid": "da447453-96e3-48fe-93cd-b9195433add6",
    "_uuid": "b63091dc0b9d04f19ab8861754a83b79c1789e96"
   },
   "source": [
    "# Movies Recommender System"
   ]
  },
  {
   "cell_type": "markdown",
   "metadata": {
    "_cell_guid": "5ec09319-a139-488b-b9fa-51780fd771dc",
    "_uuid": "93799938d163a5c4d6097e04fc566c04a1237718"
   },
   "source": [
    "![](http://labs.criteo.com/wp-content/uploads/2017/08/CustomersWhoBought3.jpg)"
   ]
  },
  {
   "cell_type": "code",
   "execution_count": 1,
   "metadata": {
    "_cell_guid": "78fea705-f9ad-4a81-aafd-8b7b624110d1",
    "_uuid": "1c291fe3725c706e0003f01f0102abb9709f25fc",
    "collapsed": true
   },
   "outputs": [],
   "source": [
    "%matplotlib inline\n",
    "import surprise\n",
    "import pandas as pd\n",
    "import numpy as np\n",
    "import matplotlib.pyplot as plt\n",
    "import seaborn as sns\n",
    "from scipy import stats\n",
    "from ast import literal_eval\n",
    "from sklearn.feature_extraction.text import TfidfVectorizer, CountVectorizer\n",
    "from sklearn.metrics.pairwise import linear_kernel, cosine_similarity\n",
    "from nltk.stem.snowball import SnowballStemmer\n",
    "from nltk.stem.wordnet import WordNetLemmatizer\n",
    "from nltk.corpus import wordnet\n",
    "\n",
    "from surprise import Reader, Dataset, SVD\n",
    "from surprise.model_selection import cross_validate\n",
    "\n",
    "import warnings; warnings.simplefilter('ignore')"
   ]
  },
  {
   "cell_type": "code",
   "execution_count": 2,
   "metadata": {},
   "outputs": [
    {
     "data": {
      "text/plain": [
       "Index(['adult', 'belongs_to_collection', 'budget', 'genres', 'homepage', 'id',\n",
       "       'imdb_id', 'original_language', 'original_title', 'overview',\n",
       "       'popularity', 'poster_path', 'production_companies',\n",
       "       'production_countries', 'release_date', 'revenue', 'runtime',\n",
       "       'spoken_languages', 'status', 'tagline', 'title', 'video',\n",
       "       'vote_average', 'vote_count'],\n",
       "      dtype='object')"
      ]
     },
     "execution_count": 2,
     "metadata": {},
     "output_type": "execute_result"
    }
   ],
   "source": [
    "md = pd.read_csv('input/movies_metadata.csv')\n",
    "md.head()\n",
    "md.columns"
   ]
  },
  {
   "cell_type": "code",
   "execution_count": 3,
   "metadata": {
    "_cell_guid": "0356d2a0-d8b2-4234-af78-bd51eaa3a390",
    "_uuid": "e0d62612bc9b9e9561afdc48fd1e75a9b0c82337"
   },
   "outputs": [
    {
     "data": {
      "text/html": [
       "<div>\n",
       "<style>\n",
       "    .dataframe thead tr:only-child th {\n",
       "        text-align: right;\n",
       "    }\n",
       "\n",
       "    .dataframe thead th {\n",
       "        text-align: left;\n",
       "    }\n",
       "\n",
       "    .dataframe tbody tr th {\n",
       "        vertical-align: top;\n",
       "    }\n",
       "</style>\n",
       "<table border=\"1\" class=\"dataframe\">\n",
       "  <thead>\n",
       "    <tr style=\"text-align: right;\">\n",
       "      <th></th>\n",
       "      <th>userId</th>\n",
       "      <th>movieId</th>\n",
       "      <th>rating</th>\n",
       "    </tr>\n",
       "  </thead>\n",
       "  <tbody>\n",
       "    <tr>\n",
       "      <th>0</th>\n",
       "      <td>1</td>\n",
       "      <td>31</td>\n",
       "      <td>2.5</td>\n",
       "    </tr>\n",
       "    <tr>\n",
       "      <th>1</th>\n",
       "      <td>1</td>\n",
       "      <td>1029</td>\n",
       "      <td>3.0</td>\n",
       "    </tr>\n",
       "    <tr>\n",
       "      <th>2</th>\n",
       "      <td>1</td>\n",
       "      <td>1061</td>\n",
       "      <td>3.0</td>\n",
       "    </tr>\n",
       "    <tr>\n",
       "      <th>3</th>\n",
       "      <td>1</td>\n",
       "      <td>1129</td>\n",
       "      <td>2.0</td>\n",
       "    </tr>\n",
       "    <tr>\n",
       "      <th>4</th>\n",
       "      <td>1</td>\n",
       "      <td>1172</td>\n",
       "      <td>4.0</td>\n",
       "    </tr>\n",
       "  </tbody>\n",
       "</table>\n",
       "</div>"
      ],
      "text/plain": [
       "   userId  movieId  rating\n",
       "0       1       31     2.5\n",
       "1       1     1029     3.0\n",
       "2       1     1061     3.0\n",
       "3       1     1129     2.0\n",
       "4       1     1172     4.0"
      ]
     },
     "execution_count": 3,
     "metadata": {},
     "output_type": "execute_result"
    }
   ],
   "source": [
    "ratings = pd.read_csv('input/ratings_small.csv')\n",
    "ratings = ratings.drop(['timestamp'], axis = 1)\n",
    "ratings.head()\n",
    "\n",
    "\n"
   ]
  },
  {
   "cell_type": "code",
   "execution_count": 4,
   "metadata": {},
   "outputs": [
    {
     "data": {
      "text/html": [
       "<div>\n",
       "<style>\n",
       "    .dataframe thead tr:only-child th {\n",
       "        text-align: right;\n",
       "    }\n",
       "\n",
       "    .dataframe thead th {\n",
       "        text-align: left;\n",
       "    }\n",
       "\n",
       "    .dataframe tbody tr th {\n",
       "        vertical-align: top;\n",
       "    }\n",
       "</style>\n",
       "<table border=\"1\" class=\"dataframe\">\n",
       "  <thead>\n",
       "    <tr style=\"text-align: right;\">\n",
       "      <th></th>\n",
       "      <th>title</th>\n",
       "      <th>year</th>\n",
       "      <th>vote_count</th>\n",
       "      <th>vote_average</th>\n",
       "      <th>popularity</th>\n",
       "      <th>genres</th>\n",
       "      <th>wr</th>\n",
       "    </tr>\n",
       "    <tr>\n",
       "      <th>Unnamed: 0</th>\n",
       "      <th></th>\n",
       "      <th></th>\n",
       "      <th></th>\n",
       "      <th></th>\n",
       "      <th></th>\n",
       "      <th></th>\n",
       "      <th></th>\n",
       "    </tr>\n",
       "  </thead>\n",
       "  <tbody>\n",
       "    <tr>\n",
       "      <th>15480</th>\n",
       "      <td>Inception</td>\n",
       "      <td>2010</td>\n",
       "      <td>14075</td>\n",
       "      <td>8</td>\n",
       "      <td>29.108149</td>\n",
       "      <td>['Action', 'Thriller', 'Science Fiction', 'Mys...</td>\n",
       "      <td>7.917588</td>\n",
       "    </tr>\n",
       "    <tr>\n",
       "      <th>12481</th>\n",
       "      <td>The Dark Knight</td>\n",
       "      <td>2008</td>\n",
       "      <td>12269</td>\n",
       "      <td>8</td>\n",
       "      <td>123.167259</td>\n",
       "      <td>['Drama', 'Action', 'Crime', 'Thriller']</td>\n",
       "      <td>7.905871</td>\n",
       "    </tr>\n",
       "    <tr>\n",
       "      <th>22879</th>\n",
       "      <td>Interstellar</td>\n",
       "      <td>2014</td>\n",
       "      <td>11187</td>\n",
       "      <td>8</td>\n",
       "      <td>32.213481</td>\n",
       "      <td>['Adventure', 'Drama', 'Science Fiction']</td>\n",
       "      <td>7.897107</td>\n",
       "    </tr>\n",
       "    <tr>\n",
       "      <th>2843</th>\n",
       "      <td>Fight Club</td>\n",
       "      <td>1999</td>\n",
       "      <td>9678</td>\n",
       "      <td>8</td>\n",
       "      <td>63.869599</td>\n",
       "      <td>['Drama']</td>\n",
       "      <td>7.881753</td>\n",
       "    </tr>\n",
       "    <tr>\n",
       "      <th>4863</th>\n",
       "      <td>The Lord of the Rings: The Fellowship of the Ring</td>\n",
       "      <td>2001</td>\n",
       "      <td>8892</td>\n",
       "      <td>8</td>\n",
       "      <td>32.070725</td>\n",
       "      <td>['Adventure', 'Fantasy', 'Action']</td>\n",
       "      <td>7.871787</td>\n",
       "    </tr>\n",
       "  </tbody>\n",
       "</table>\n",
       "</div>"
      ],
      "text/plain": [
       "                                                        title  year  \\\n",
       "Unnamed: 0                                                            \n",
       "15480                                               Inception  2010   \n",
       "12481                                         The Dark Knight  2008   \n",
       "22879                                            Interstellar  2014   \n",
       "2843                                               Fight Club  1999   \n",
       "4863        The Lord of the Rings: The Fellowship of the Ring  2001   \n",
       "\n",
       "            vote_count  vote_average  popularity  \\\n",
       "Unnamed: 0                                         \n",
       "15480            14075             8   29.108149   \n",
       "12481            12269             8  123.167259   \n",
       "22879            11187             8   32.213481   \n",
       "2843              9678             8   63.869599   \n",
       "4863              8892             8   32.070725   \n",
       "\n",
       "                                                       genres        wr  \n",
       "Unnamed: 0                                                               \n",
       "15480       ['Action', 'Thriller', 'Science Fiction', 'Mys...  7.917588  \n",
       "12481                ['Drama', 'Action', 'Crime', 'Thriller']  7.905871  \n",
       "22879               ['Adventure', 'Drama', 'Science Fiction']  7.897107  \n",
       "2843                                                ['Drama']  7.881753  \n",
       "4863                       ['Adventure', 'Fantasy', 'Action']  7.871787  "
      ]
     },
     "execution_count": 4,
     "metadata": {},
     "output_type": "execute_result"
    }
   ],
   "source": [
    "qualified = pd.read_csv('qualified_movies.csv')\n",
    "qualified = qualified.set_index('Unnamed: 0')\n",
    "qualified.head()"
   ]
  },
  {
   "cell_type": "code",
   "execution_count": 12,
   "metadata": {},
   "outputs": [
    {
     "name": "stdout",
     "output_type": "stream",
     "text": [
      "[15480 12481 22879  2843  4863   292   314  7000   351  5814   256  1225\n",
      "   834  1154    46 24860   359 18465 22841   586 11354   522 23673   289\n",
      "  4099  3030  5481  1213  1057  2211  1163  1178    49  1170  2216  4135\n",
      "  1152 32144  1201   109  1176  1159  1161  1165  9698  2884 10309  9430\n",
      "  5857  5878  5833 41128   877   732   896   876  1166  1184   926 40251\n",
      "  5553  1910  3342   883  1132  1236 19901 25465 43190 14551 17818 26564\n",
      " 20051 23753 26553 18252  2458 12588 37863 19971  1901 26555  1639 10122\n",
      " 26567 30051  6390  4766 13724 26558 22131 30315 22058 13605 15472 14825\n",
      " 31865 12704 13746 42170  6232 24455 23359  4756 17437 25534  7725 26562\n",
      " 23675  5678 19735 14557 23053 26568 21592 10554 40598 16128 21025 11927\n",
      " 30401  3456 24121 24351 22110 13893     0 11008  8234 17217  1919 41489\n",
      " 11662  6725 33356 23465 36253   475 25390 24482 26566 19731  1167 15017\n",
      " 40882 21161 15348  1604 23561 19726 22059 23437 24241 13643  1171 16066\n",
      " 10839 23692 11567 20922 41492 11316 17588 12595 28131 14984   582 28830\n",
      " 22168  1195 10069  4178  7271 24366  1007 18258  1460  5084  1156 11404\n",
      "  1902  5851  2997 16572 20910 23512  4833   536 17439 21878  7208  2178\n",
      " 14236  5284 21101  4748   581 15798 24445 19590 41457 13966  2742  1138\n",
      " 16130   108  4843 24982 13219 23553  1065  3897 40416  1158 23472  2647\n",
      "  1246 22167 11007  2576 21604 13187 21276  7834 23557 12083 22718 11308\n",
      "  4865 12170   897 19460   588  1650 23555 13874 42169  1903 21948  3886\n",
      " 11965 13060 12815  1624  7938  2006 16129   895  9888 16833]\n"
     ]
    }
   ],
   "source": [
    "print(qualified.index.values)"
   ]
  },
  {
   "cell_type": "markdown",
   "metadata": {
    "_cell_guid": "36a1b9ac-aff3-4d80-9e19-83a45f282062",
    "_uuid": "75eb9e1de05386d229746785a25c6a5c6ee4b61a"
   },
   "source": [
    "### Top Movies"
   ]
  },
  {
   "cell_type": "code",
   "execution_count": 5,
   "metadata": {
    "collapsed": true
   },
   "outputs": [],
   "source": [
    "import re\n",
    "\n",
    "\n",
    "def get_user_ratings():\n",
    "    movie_id, rating_int = [],[]\n",
    "    for index, row in qualified.iterrows():\n",
    "\n",
    "        movie_title = row['title']\n",
    "        #TODO fix words\n",
    "        # viable responses: y, n, m (yes, no, maybe - option for having not seen movie) \n",
    "        invalid_input = True\n",
    "        while invalid_input:\n",
    "            prompt = 'Rate the following movie on a scale from 0 to 5, if you have seen it - decimals are allowed. Then press enter. If you have not seen the movie, press Enter/Return. Press q if you would like to quit:\\n' + movie_title\n",
    "            user_rating = input(prompt)\n",
    "            if user_rating.lower() == 'q':\n",
    "                invalid_input = False\n",
    "                return movie_id, rating_int\n",
    "            elif (re.match(r'^-?\\d+(?:\\.\\d+)?$', user_rating) is not None) and (float(user_rating) <= 5 and float(user_rating)>=0):\n",
    " \n",
    "                movie_id.append(index)\n",
    "                rating_int.append(user_rating)\n",
    "                invalid_input = False\n",
    "            else:\n",
    "                print('ERROR: invalid input')\n",
    "    \n",
    "    return movie_id, rating_int"
   ]
  },
  {
   "cell_type": "code",
   "execution_count": 7,
   "metadata": {
    "_cell_guid": "0bca5b03-0835-4902-aaa1-beceb9d9d47f",
    "_uuid": "f7f6821b7e9aff099b81fcc425fd20109894b351"
   },
   "outputs": [
    {
     "name": "stdout",
     "output_type": "stream",
     "text": [
      "If you already have used this service, input your unique user ID and press Enter. If not, type 'n'.n\n",
      "Your unique user ID is:  673\n",
      "Rate the following movie on a scale from 0 to 5, if you have seen it - decimals are allowed. Then press enter. If you have not seen the movie, press Enter/Return. Press q if you would like to quit:\n",
      "Inception1\n",
      "Rate the following movie on a scale from 0 to 5, if you have seen it - decimals are allowed. Then press enter. If you have not seen the movie, press Enter/Return. Press q if you would like to quit:\n",
      "The Dark Knight1\n",
      "Rate the following movie on a scale from 0 to 5, if you have seen it - decimals are allowed. Then press enter. If you have not seen the movie, press Enter/Return. Press q if you would like to quit:\n",
      "Interstellar1\n",
      "Rate the following movie on a scale from 0 to 5, if you have seen it - decimals are allowed. Then press enter. If you have not seen the movie, press Enter/Return. Press q if you would like to quit:\n",
      "Fight Club1\n",
      "Rate the following movie on a scale from 0 to 5, if you have seen it - decimals are allowed. Then press enter. If you have not seen the movie, press Enter/Return. Press q if you would like to quit:\n",
      "The Lord of the Rings: The Fellowship of the Ring1\n",
      "Rate the following movie on a scale from 0 to 5, if you have seen it - decimals are allowed. Then press enter. If you have not seen the movie, press Enter/Return. Press q if you would like to quit:\n",
      "Pulp Fiction1\n",
      "Rate the following movie on a scale from 0 to 5, if you have seen it - decimals are allowed. Then press enter. If you have not seen the movie, press Enter/Return. Press q if you would like to quit:\n",
      "The Shawshank Redemptionq\n"
     ]
    },
    {
     "data": {
      "text/html": [
       "<div>\n",
       "<style>\n",
       "    .dataframe thead tr:only-child th {\n",
       "        text-align: right;\n",
       "    }\n",
       "\n",
       "    .dataframe thead th {\n",
       "        text-align: left;\n",
       "    }\n",
       "\n",
       "    .dataframe tbody tr th {\n",
       "        vertical-align: top;\n",
       "    }\n",
       "</style>\n",
       "<table border=\"1\" class=\"dataframe\">\n",
       "  <thead>\n",
       "    <tr style=\"text-align: right;\">\n",
       "      <th></th>\n",
       "      <th>movieId</th>\n",
       "      <th>rating</th>\n",
       "      <th>userId</th>\n",
       "    </tr>\n",
       "  </thead>\n",
       "  <tbody>\n",
       "    <tr>\n",
       "      <th>1</th>\n",
       "      <td>12481</td>\n",
       "      <td>1</td>\n",
       "      <td>673</td>\n",
       "    </tr>\n",
       "    <tr>\n",
       "      <th>2</th>\n",
       "      <td>22879</td>\n",
       "      <td>1</td>\n",
       "      <td>673</td>\n",
       "    </tr>\n",
       "    <tr>\n",
       "      <th>3</th>\n",
       "      <td>2843</td>\n",
       "      <td>1</td>\n",
       "      <td>673</td>\n",
       "    </tr>\n",
       "    <tr>\n",
       "      <th>4</th>\n",
       "      <td>4863</td>\n",
       "      <td>1</td>\n",
       "      <td>673</td>\n",
       "    </tr>\n",
       "    <tr>\n",
       "      <th>5</th>\n",
       "      <td>292</td>\n",
       "      <td>1</td>\n",
       "      <td>673</td>\n",
       "    </tr>\n",
       "  </tbody>\n",
       "</table>\n",
       "</div>"
      ],
      "text/plain": [
       "   movieId rating  userId\n",
       "1    12481      1     673\n",
       "2    22879      1     673\n",
       "3     2843      1     673\n",
       "4     4863      1     673\n",
       "5      292      1     673"
      ]
     },
     "execution_count": 7,
     "metadata": {},
     "output_type": "execute_result"
    }
   ],
   "source": [
    "uid = input(\"If you already have used this service, input your unique user ID and press Enter. If not, type 'n'.\")\n",
    "\n",
    "if uid == 'n':\n",
    "    uid = max(ratings['userId']) + 1\n",
    "    print(\"Your unique user ID is: \", uid)\n",
    "    \n",
    "    movie_id, rating_int = get_user_ratings()\n",
    "    \n",
    "\n",
    "    ratings = ratings.append(pd.DataFrame({'userId': [uid] * len(movie_id),'movieId':movie_id, 'rating':rating_int}))\n",
    "\n",
    "\n",
    "else: \n",
    "    uid = int(uid)\n",
    "    #TODO - DO SOMETHING DIFF - ASK FOR RATINGS FOR NA ROWS\n",
    "\n",
    "\n",
    "check = ratings[ratings['userId'] == uid]\n",
    "check.tail()\n",
    "    "
   ]
  },
  {
   "cell_type": "code",
   "execution_count": 8,
   "metadata": {
    "collapsed": true
   },
   "outputs": [],
   "source": [
    "# save updated csv\n",
    "ratings.to_csv('updated_ratings.csv')"
   ]
  },
  {
   "cell_type": "code",
   "execution_count": 9,
   "metadata": {
    "collapsed": true
   },
   "outputs": [],
   "source": [
    "#SVD Fitting\n",
    "group_userId = [672, 673]#, 672]"
   ]
  },
  {
   "cell_type": "code",
   "execution_count": 10,
   "metadata": {
    "scrolled": true
   },
   "outputs": [
    {
     "data": {
      "text/plain": [
       "<surprise.prediction_algorithms.matrix_factorization.SVD at 0x13471b400>"
      ]
     },
     "execution_count": 10,
     "metadata": {},
     "output_type": "execute_result"
    }
   ],
   "source": [
    "reader = Reader()\n",
    "data = Dataset.load_from_df(ratings[['userId', 'movieId', 'rating']], reader)\n",
    "\n",
    "svd = SVD()\n",
    "cross_validate(svd, data, measures=['RMSE', 'MAE'],cv=5)\n",
    "trainset = data.build_full_trainset()\n",
    "svd.fit(trainset)"
   ]
  },
  {
   "cell_type": "code",
   "execution_count": null,
   "metadata": {},
   "outputs": [],
   "source": [
    "# TODOO - DELEETE AFTER OR JUST SAVE OFF AS RATINGS AND REPLACE ONCE CONFIDENT WE WONT FUICK IT UP\n",
    "ratings = pd.read_csv('updated_ratings.csv')\n",
    "ratings.head()"
   ]
  },
  {
   "cell_type": "code",
   "execution_count": 14,
   "metadata": {},
   "outputs": [
    {
     "name": "stdout",
     "output_type": "stream",
     "text": [
      "250\n",
      "672 6\n",
      "244\n",
      "673 6\n",
      "244\n"
     ]
    }
   ],
   "source": [
    "movie_ids = set(qualified.index.values.tolist())\n",
    "print(len(movie_ids))\n",
    "for uid in group_userId:\n",
    "    #TODO - make rows for all movies in qualified for each of the users in the group (if they already exist, dont overwrite thoough!)\n",
    "    user_rated_movies = ratings.loc[lambda ratings: ratings['userId']==uid]['movieId'].values.tolist()\n",
    "    #print(user_rated_movies)\n",
    "    #print(uid, set(movie_ids))\n",
    "    #print(movie_ids)\n",
    "    print(uid, len(user_rated_movies))\n",
    "\n",
    "    dummy_row_idx = list(set(movie_ids).difference(set(user_rated_movies)))\n",
    "     \n",
    "    #print(dummy_row_idx)\n",
    "    print(len(dummy_row_idx))\n",
    "    \n",
    "    dummy_row_uid = [uid]*len(dummy_row_idx)\n",
    "    dummy_row_rating = [np.nan]*len(dummy_row_idx)\n",
    "    ratings = ratings.append(pd.DataFrame({'userId':dummy_row_uid,'movieId':dummy_row_idx, 'rating':dummy_row_rating}))"
   ]
  },
  {
   "cell_type": "code",
   "execution_count": null,
   "metadata": {
    "collapsed": true
   },
   "outputs": [],
   "source": []
  },
  {
   "cell_type": "code",
   "execution_count": null,
   "metadata": {},
   "outputs": [],
   "source": [
    "#md[md['title']=='The Dark Knight']"
   ]
  },
  {
   "cell_type": "code",
   "execution_count": null,
   "metadata": {},
   "outputs": [],
   "source": [
    "# titles = ['The Dark Knight']#'Inception', , 'Interstellar']\n",
    "# for ti in titles:\n",
    "#     print(md.loc[lambda md: md['title']==ti])"
   ]
  },
  {
   "cell_type": "code",
   "execution_count": 15,
   "metadata": {},
   "outputs": [
    {
     "name": "stdout",
     "output_type": "stream",
     "text": [
      "250 250\n",
      "250 250\n",
      "     movieId rating  userId       est\n",
      "0      15480      5     672  3.881921\n",
      "1      12481      5     672  3.881921\n",
      "2      22879      4     672  3.881921\n",
      "3       2843      3     672  3.881921\n",
      "4       4863      5     672  3.881921\n",
      "5        292      4     672  3.881921\n",
      "0      15480      1     673  2.560574\n",
      "1      12481      1     673  2.560574\n",
      "2      22879      1     673  2.560574\n",
      "3       2843      1     673  2.560574\n",
      "4       4863      1     673  2.560574\n",
      "5        292      1     673  2.560574\n",
      "0          0    NaN     672  3.881921\n",
      "1      23553    NaN     672  3.881921\n",
      "2       4099    NaN     672  3.637955\n",
      "3      19971    NaN     672  3.881921\n",
      "4      23557    NaN     672  3.881921\n",
      "5      19460    NaN     672  3.881921\n",
      "6      23555    NaN     672  3.881921\n",
      "7      23561    NaN     672  3.881921\n",
      "8        522    NaN     672  3.682777\n",
      "9      23053    NaN     672  3.881921\n",
      "10     12815    NaN     672  3.881921\n",
      "11      2576    NaN     672  3.881921\n",
      "12     41489    NaN     672  4.073713\n",
      "13     41492    NaN     672  3.881921\n",
      "14       536    NaN     672  3.853848\n",
      "15     17437    NaN     672  3.758128\n",
      "16     17439    NaN     672  3.881921\n",
      "17     18465    NaN     672  3.881921\n",
      "..       ...    ...     ...       ...\n",
      "214    40882    NaN     673  2.560574\n",
      "215     1460    NaN     673  2.321350\n",
      "216     2997    NaN     673  3.108931\n",
      "217    15798    NaN     673  2.560574\n",
      "218    26553    NaN     673  2.560574\n",
      "219    20922    NaN     673  2.560574\n",
      "220    26555    NaN     673  2.582215\n",
      "221    21948    NaN     673  2.560574\n",
      "222    19901    NaN     673  2.560574\n",
      "223    26558    NaN     673  2.560574\n",
      "224    25534    NaN     673  2.560574\n",
      "225    16833    NaN     673  2.560574\n",
      "226    26562    NaN     673  2.535033\n",
      "227    26564    NaN     673  2.592935\n",
      "228    26566    NaN     673  2.560574\n",
      "229    26567    NaN     673  2.560574\n",
      "230    26568    NaN     673  2.560574\n",
      "231     3030    NaN     673  2.937265\n",
      "232     2006    NaN     673  2.434829\n",
      "233    23512    NaN     673  2.560574\n",
      "234      475    NaN     673  3.270864\n",
      "235     5084    NaN     673  2.560574\n",
      "236    40416    NaN     673  2.560574\n",
      "237     9698    NaN     673  2.560574\n",
      "238    28131    NaN     673  2.560574\n",
      "239    37863    NaN     673  2.560574\n",
      "240    14825    NaN     673  2.560574\n",
      "241     1007    NaN     673  2.468295\n",
      "242    41457    NaN     673  2.560574\n",
      "243    15348    NaN     673  2.560574\n",
      "\n",
      "[500 rows x 4 columns]\n"
     ]
    }
   ],
   "source": [
    "ratings['est'] = [np.nan]*len(ratings)\n",
    "for uid in group_userId:\n",
    "    #print([svd.predict(uid, movie_id).est for movie_id in movie_ids])\n",
    "    print(len(ratings.loc[lambda ratings: ratings['userId']==uid,['est']]),len([svd.predict(uid, movie_id).est for movie_id in movie_ids]))\n",
    "    #ratings[ratings['userId']==uid].sort_values(by='movieId', ascending=True)['est']\n",
    "    ratings.loc[lambda ratings: ratings['userId']==uid,['est']] = [svd.predict(uid, movie_id).est for movie_id in list(movie_ids)]\n",
    "\n",
    "print(ratings[ratings['userId'].isin(group_userId)])"
   ]
  },
  {
   "cell_type": "code",
   "execution_count": 16,
   "metadata": {},
   "outputs": [
    {
     "name": "stdout",
     "output_type": "stream",
     "text": [
      "              est                                              title\n",
      "movieId                                                             \n",
      "926      4.083002                              It's a Wonderful Life\n",
      "13966    3.932721                                         District 9\n",
      "475      3.875512                                      Jurassic Park\n",
      "22718    3.858179                                     The Lego Movie\n",
      "24121    3.819024                                    The Maze Runner\n",
      "3030     3.772508                                     The Green Mile\n",
      "2997     3.767566                                        Toy Story 2\n",
      "43190    3.691352                                   Band of Brothers\n",
      "2216     3.650689                                 American History X\n",
      "10554    3.520772                Harry Potter and the Goblet of Fire\n",
      "22841    3.479845                           The Grand Budapest Hotel\n",
      "13060    3.443895                                Slumdog Millionaire\n",
      "3456     3.441494                                          Gladiator\n",
      "20051    3.439441                                   Django Unchained\n",
      "1246     3.425368                 Indiana Jones and the Last Crusade\n",
      "876      3.413431                                            Vertigo\n",
      "41489    3.411102                       Rogue One: A Star Wars Story\n",
      "14551    3.397045                                             Avatar\n",
      "4178     3.384471                                              Shrek\n",
      "1171     3.376111                                              Alien\n",
      "16066    3.372164                                         Black Swan\n",
      "1910     3.364002                                      Seven Samurai\n",
      "732      3.345568  Dr. Strangelove or: How I Learned to Stop Worr...\n",
      "11927    3.339880          Harry Potter and the Order of the Phoenix\n",
      "13874    3.330758                               (500) Days of Summer\n",
      "6725     3.330356                                  Kill Bill: Vol. 1\n",
      "11007    3.325366                              The Devil Wears Prada\n",
      "586      3.324701                           The Silence of the Lambs\n",
      "11316    3.315667                                       The Departed\n",
      "8234     3.309612                                    The Incredibles\n",
      "...           ...                                                ...\n",
      "896      3.135204                                       Citizen Kane\n",
      "17437    3.126844       Harry Potter and the Deathly Hallows: Part 2\n",
      "10069    3.122382       Star Wars: Episode III - Revenge of the Sith\n",
      "11965    3.120098                               The Bourne Ultimatum\n",
      "21276    3.116516                                      The Conjuring\n",
      "21101    3.075126                                Monsters University\n",
      "42170    3.072093                                              Logan\n",
      "2006     3.071782               Indiana Jones and the Temple of Doom\n",
      "5851     3.068646                                Catch Me If You Can\n",
      "4833     3.065374                                     Ocean's Eleven\n",
      "1901     3.060951                                         Metropolis\n",
      "14984    3.041497                           How to Train Your Dragon\n",
      "7208     3.032969              Eternal Sunshine of the Spotless Mind\n",
      "4099     3.005932                                            Memento\n",
      "1902     3.000198                         Back to the Future Part II\n",
      "2458     2.998731                                         The Matrix\n",
      "1650     2.995151                                   The Big Lebowski\n",
      "1460     2.985695                                  The Fifth Element\n",
      "351      2.981506                                       Forrest Gump\n",
      "1158     2.978679                                             Aliens\n",
      "834      2.951543                                      The Godfather\n",
      "1167     2.936134                                 Return of the Jedi\n",
      "19726    2.932845                                     Wreck-It Ralph\n",
      "1007     2.930612                                           Die Hard\n",
      "522      2.925095                                   Schindler's List\n",
      "24351    2.865257                                          John Wick\n",
      "7000     2.861634      The Lord of the Rings: The Return of the King\n",
      "5481     2.847116                                      Spirited Away\n",
      "1604     2.803768                                    The Truman Show\n",
      "4843     2.477835                                             Amélie\n",
      "\n",
      "[250 rows x 2 columns]\n"
     ]
    }
   ],
   "source": [
    "#Ratings that we care about\n",
    "movie_recs = ratings[ratings['userId'].isin(group_userId)].groupby([\"movieId\"])['est'].mean().to_frame()\n",
    "\n",
    "movie_recs = movie_recs.sort_values(by=['est'],ascending=False)\n",
    "\n",
    "movie_recs['title'] = [qualified.loc[movie_id]['title'] for movie_id in movie_recs.index.tolist()]\n",
    "print(movie_recs)"
   ]
  }
 ],
 "metadata": {
  "kernelspec": {
   "display_name": "Python 3",
   "language": "python",
   "name": "python3"
  },
  "language_info": {
   "codemirror_mode": {
    "name": "ipython",
    "version": 3
   },
   "file_extension": ".py",
   "mimetype": "text/x-python",
   "name": "python",
   "nbconvert_exporter": "python",
   "pygments_lexer": "ipython3",
   "version": "3.6.3"
  }
 },
 "nbformat": 4,
 "nbformat_minor": 4
}
